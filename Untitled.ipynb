{
 "cells": [
  {
   "cell_type": "code",
   "execution_count": 2,
   "metadata": {},
   "outputs": [],
   "source": [
    "import os\n",
    "import traceback\n",
    "import skimage\n",
    "\n",
    "# importing libraries for computer vision\n",
    "import numpy as np\n",
    "import cv2 \n",
    "import imutils\n",
    "from imutils import contours\n",
    "from imutils.perspective import four_point_transform\n",
    "from skimage.filters import threshold_local\n",
    "\n",
    "# importing libraries to read text from image\n",
    "from PIL import Image\n",
    "import pytesseract\n",
    "from pytesseract import image_to_string\n",
    "pytesseract.pytesseract.tesseract_cmd = 'C:/Program Files (x86)/Tesseract-OCR/tesseract'\n",
    "TESSDATA_PREFIX = 'C:/Program Files (x86)/Tesseract-OCR'"
   ]
  },
  {
   "cell_type": "code",
   "execution_count": 11,
   "metadata": {},
   "outputs": [
    {
     "name": "stdout",
     "output_type": "stream",
     "text": [
      "1.15.0\n"
     ]
    }
   ],
   "source": [
    "import numpy as np\n",
    "print(np.__version__)"
   ]
  },
  {
   "cell_type": "code",
   "execution_count": 15,
   "metadata": {},
   "outputs": [],
   "source": [
    "for file in os.listdir(\"E:/Work/Tasks/Task3-vision/frames\"):\n",
    "    if file.endswith(\".png\"):\n",
    "        file_path = \"E:/Work/Tasks/Task3-vision/frames/\" + str(file)\n",
    "        # reading file with cv2\n",
    "        img = cv2.imread(file_path)\n",
    "        ratio = img.shape[0]/500.0\n",
    "        original_img = img.copy()\n",
    "\n",
    "        # converting image into grayscale\n",
    "        gray = cv2.cvtColor(img, cv2.COLOR_BGR2GRAY)\n",
    "\n",
    "        # blurring and finding edges of the image\n",
    "        blurred = cv2.GaussianBlur(gray, (5,5) ,0)\n",
    "        edged = cv2.Canny(gray, 75, 200)\n",
    "\n",
    "        # applying threshold to grayscale image\n",
    "        thresh = cv2.threshold(gray, 225, 255, cv2.THRESH_BINARY_INV)[1]\n",
    "\n",
    "        # finding contours\n",
    "        cnts, _ = cv2.findContours(thresh.copy(), cv2.RETR_EXTERNAL, cv2.CHAIN_APPROX_SIMPLE)\n",
    "        \n",
    "        # draw contours on image \n",
    "        cv2.drawContours(img, cnts, -1, (240, 0, 159), 3)\n",
    "\n",
    "        H,W = img.shape[:2]\n",
    "        for cnt in cnts:\n",
    "            x,y,w,h = cv2.boundingRect(cnt)\n",
    "            if cv2.contourArea(cnt) > 100 and (0.7 < w/h < 1.3) and (W/4 < x + w//2 < W*3/4) and (H/4 < y + h//2 < H*3/4):\n",
    "                break\n",
    "\n",
    "        # creating mask and performing bitwise-op\n",
    "        mask = np.zeros(img.shape[:2],np.uint8)\n",
    "        cv2.drawContours(mask, [cnt],-1, 255, -1)\n",
    "        dst = cv2.bitwise_and(img, img, mask=mask)\n",
    "\n",
    "        # displaying image and saving in the directory\n",
    "        gray = cv2.cvtColor(dst, cv2.COLOR_BGR2GRAY)\n",
    "        gray = cv2.medianBlur(gray, 3)\n",
    "        gray = cv2.threshold(gray, 0, 255, cv2.THRESH_BINARY | cv2.THRESH_OTSU)[1]\n",
    "        scanned_file_name = \"E:/Work/Tasks/Task3-vision/frames/\" + str(file[:-4]) + \"-Scanned.png\" \n",
    "        cv2.imwrite(scanned_file_name, dst)\n",
    "        # cv2.imshow(\"gray.png\", dst)\n",
    "        # cv2.waitKey()\n",
    "\n",
    "        # fetching text from the image and storing it into a text file\n",
    "        newimg=Image.open(scanned_file_name)\n",
    "        file_text = pytesseract.image_to_string(newimg,lang = 'ben')\n",
    "        text_file_name = \"E:/Work/Tasks/Task3-vision/frames/\" + str(file[:-4]) + \"-Scanned.txt\" \n",
    "        with open(text_file_name, \"a\",encoding=\"utf8\") as f:\n",
    "            f.write(file_text + \"\\n\")\n",
    "        # import pdb; pdb.set_trace()"
   ]
  },
  {
   "cell_type": "code",
   "execution_count": 3,
   "metadata": {},
   "outputs": [
    {
     "name": "stdout",
     "output_type": "stream",
     "text": [
      "<PIL.PngImagePlugin.PngImageFile image mode=RGBA size=663x601 at 0x2902B9C8CC0>\n",
      "POPUPAR Bo wisiod PICTON (GO FHS Tes fear Tealor\n",
      "fog sar feat A~~~~\n",
      "\n",
      "ONS OF CIT AIA GIA FS BS GA GTS fos CX Cte APA ET\n",
      "FaCaTA RCS\n",
      "\n",
      "0 OIRCT APTS Ea aCe SAT OAT Corrs wees HTN S AS | GATS\n",
      "COMMA BUCS AARACAA OA HC VICI IBICT COMA GAA CW MA ST\n",
      "AMSA Ol SY COTA ABA AW\n",
      "\n",
      "08S IAT BIBI GGIC AE CHR CLAS SAT [HSI SAC CI COTTA B\n",
      "BISA CARMA PAST ACY!\n",
      "\n",
      "COMMITS ALA ANTS RUS COPIA ATOITBA WA GSAS FPS SCY\n",
      "TR COTMCHALS FACHCAA GAA VHT AWG AUC GUAT “STS GT GITS\n",
      "Rl |\n",
      "\n",
      "GIA SPA ACTA GSAT ACTA ||\n",
      "\n",
      "oT (IAM ACT OCU TG AA WO WG SA TAA OCU WALA HATA CC\n",
      "Re I\n",
      "\n",
      "o WS HAS TS GUIANA CAC FATS CICA TG UCT SUA HTT (3H AT\n",
      "ore afore HAY Milos cs Ofsca ZIG SSS ||\n",
      "\n",
      "WOCAT SMB SAB GIT AAT OTR AY || GAS ASI HAS ST |\n",
      "WS BG WT AVS LAA SA SMBS LA GAT\n"
     ]
    }
   ],
   "source": [
    "from pytesseract import image_to_string\n",
    "from PIL import Image\n",
    "\n",
    "im = Image.open('frames/test.png')\n",
    "print(im)\n",
    "\n",
    "print(image_to_string(im))  "
   ]
  },
  {
   "cell_type": "code",
   "execution_count": 11,
   "metadata": {},
   "outputs": [
    {
     "name": "stdout",
     "output_type": "stream",
     "text": [
      "\n"
     ]
    }
   ],
   "source": [
    "from PIL import Image\n",
    "\n",
    "import pytesseract\n",
    "\n",
    "#uncomment below line if you dont want to set \"Environment variables\" path\n",
    " #pytesseract.pytesseract.tesseract_cmd = r\"C:\\Program Files (x86)\\Tesseract-OCR\\tesseract.exe\"\n",
    "\n",
    "im = Image.open(\"frames/Screenshot from 2020-01-26 14-01-08.png\")\n",
    "\n",
    "text = pytesseract.image_to_string(im, lang = 'ben')\n",
    "\n",
    "print(text)"
   ]
  },
  {
   "cell_type": "code",
   "execution_count": 21,
   "metadata": {},
   "outputs": [
    {
     "data": {
      "text/plain": [
       "True"
      ]
     },
     "execution_count": 21,
     "metadata": {},
     "output_type": "execute_result"
    }
   ],
   "source": [
    "import cv2\n",
    "  \n",
    "originalImage = cv2.imread('E:/Work/Tasks/Task3-vision/frames/Screenshot from 2020-01-26 14-24-39.png')\n",
    "grayImage = cv2.cvtColor(originalImage, cv2.COLOR_BGR2GRAY)\n",
    "  \n",
    "(thresh, blackAndWhiteImage) = cv2.threshold(grayImage, 127, 255, cv2.THRESH_BINARY)\n",
    " \n",
    "cv2.imwrite(\"E:/Work/Tasks/Task3-vision/frames/newone.png\",grayImage)\n"
   ]
  },
  {
   "cell_type": "code",
   "execution_count": 23,
   "metadata": {},
   "outputs": [
    {
     "name": "stdout",
     "output_type": "stream",
     "text": [
      "ইন্টারন্যাশনাল ইউনিভার্সিটির ফাউন্ডেশন ডে তে একটি বক্তব্য দিয়েছেন বক্তব্যটির\n",
      "কিছু কথা ছিল এমন----\n",
      "\n",
      "*মানুষ চলে গেলে সবার অনেক প্রিয় হয় আর এটাও সত্যি ষে বেঁচে থাকলে প্রিয়\n",
      "বিয়োগ হবে ||\n",
      "\n",
      "* জীবনে লক্ষ্যটি স্থির রাখবে কারণ তুমি তোমার মধ্যে সীমাবদ্ধ নও । তুমিও\n",
      "তোমার আরেকটি পরিবারের জন্ম দিতে যাচ্ছো।কাজেই তোমার উপর ষৈ দাবী বা\n",
      "দায়ভার তা শুধু তোমার একার নয় ||\n",
      "\n",
      "*যেই বেলুনটি আকাশে উড়ানো হলো সেই বেলুনের কথা চিন্তা করবে যে তোমার ও\n",
      "আকাশ ছোঁয়ার ক্ষমতা আছে।\n",
      "\n",
      "*তোমাদের মনে রাখতে হবে তোমাদের প্রত্যেকের মধ্যে উদ্ভাবনের ক্ষমতা আছে\n",
      "তাই তোমাদেরকে নিজেদের ভুবনে স্বকীয় হতে হবে আপন শক্তিতে জ্বলে উঠতে\n",
      "হবে।।\n",
      "\n",
      "*জীবনে অনুসরণ প্রয়োজন অনুকরণ প্রয়োজন।|\n",
      "\n",
      "*্যত বিনয়ী হবে ততো বড় হবে যতো বড় কথা বলবে ততো মানুষের সামনে ছোট\n",
      "হবে ||\n",
      "\n",
      "* মানুষ অনেক বড় জায়গায় গেলে নিজেকে অনেক বড় মনে করে সেটা ঠিক না\n",
      "তাই হাঁটার সময় মাটির দিকে তাকিয়ে হাঁটা উচিত।|\n",
      "\n",
      "ম্যামের কথাগুলো অনেক ভালো লাগলো তাই লিখছি || অনেক বা্তব সম্মত কথা ।\n",
      "থ্যাংক ইউ ম্যাম এতো সুন্দর করে কথাগুলো বলার জন্য\n"
     ]
    }
   ],
   "source": [
    "im2 = Image.open(\"frames/test.png\")\n",
    "text = pytesseract.image_to_string(im2, lang = 'ben')\n",
    "print(text)"
   ]
  },
  {
   "cell_type": "code",
   "execution_count": 27,
   "metadata": {},
   "outputs": [
    {
     "name": "stdout",
     "output_type": "stream",
     "text": [
      "মুনির\n",
      "\n",
      "08 গুনং ধনুয়া\n",
      "\n",
      "গেজেটভুক্ত 03দাগ: টনি\n",
      "\n",
      "[১১২২১\n",
      "\n",
      "১১\n",
      "\n",
      "১১\n"
     ]
    }
   ],
   "source": [
    "originalImage = cv2.imread('E:/Work/Tasks/Task3-vision/frames/test2.jpg')\n",
    "grayImage = cv2.cvtColor(originalImage, cv2.COLOR_BGR2GRAY)\n",
    "  \n",
    "(thresh, blackAndWhiteImage) = cv2.threshold(grayImage, 127, 255, cv2.THRESH_BINARY)\n",
    " \n",
    "cv2.imwrite(\"E:/Work/Tasks/Task3-vision/frames/new2.jpg\",blackAndWhiteImage)\n",
    "\n",
    "im2 = Image.open(\"frames/new2.jpg\")\n",
    "text = pytesseract.image_to_string(im2, lang = 'ben')\n",
    "print(text)"
   ]
  },
  {
   "cell_type": "code",
   "execution_count": null,
   "metadata": {
    "collapsed": true
   },
   "outputs": [],
   "source": []
  }
 ],
 "metadata": {
  "kernelspec": {
   "display_name": "Python 3",
   "language": "python",
   "name": "python3"
  },
  "language_info": {
   "codemirror_mode": {
    "name": "ipython",
    "version": 3
   },
   "file_extension": ".py",
   "mimetype": "text/x-python",
   "name": "python",
   "nbconvert_exporter": "python",
   "pygments_lexer": "ipython3",
   "version": "3.6.3"
  }
 },
 "nbformat": 4,
 "nbformat_minor": 2
}
